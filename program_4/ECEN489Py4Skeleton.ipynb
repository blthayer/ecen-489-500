{
 "cells": [
  {
   "cell_type": "code",
   "execution_count": 92,
   "metadata": {},
   "outputs": [],
   "source": [
    "from __future__ import print_function\n",
    "import keras\n",
    "from keras.preprocessing.image import ImageDataGenerator\n",
    "from keras.models import Sequential\n",
    "from keras.layers import Dense, Dropout, Activation, Flatten\n",
    "from keras.layers import Conv2D, MaxPooling2D\n",
    "import numpy as np\n",
    "from sklearn.metrics import classification_report, confusion_matrix\n",
    "import os\n"
   ]
  },
  {
   "cell_type": "code",
   "execution_count": 93,
   "metadata": {},
   "outputs": [],
   "source": [
    "#ImageDataGenerator implements functions useful for input image scaling and augmentation -- you may want more!\n",
    "\n",
    "train_datagen = ImageDataGenerator(rescale=1./255)\n",
    "\n",
    "valid_datagen = ImageDataGenerator(rescale=1./255)\n",
    "\n",
    "test_datagen = ImageDataGenerator(rescale=1./255)\n"
   ]
  },
  {
   "cell_type": "code",
   "execution_count": 94,
   "metadata": {},
   "outputs": [
    {
     "name": "stdout",
     "output_type": "stream",
     "text": [
      "Found 2744 images belonging to 8 classes.\n",
      "Found 929 images belonging to 8 classes.\n",
      "Found 884 images belonging to 8 classes.\n"
     ]
    }
   ],
   "source": [
    "train_generator = train_datagen.flow_from_directory(\n",
    "        'data/train',\n",
    "        target_size=(32, 32),\n",
    "        color_mode='rgb',\n",
    "        batch_size=1,\n",
    "        class_mode='categorical',\n",
    "        shuffle=True,\n",
    "        seed=1953)\n",
    "\n",
    "\n",
    "valid_generator = valid_datagen.flow_from_directory(\n",
    "        'data/validation',\n",
    "        target_size=(32, 32),\n",
    "        color_mode='rgb',\n",
    "        batch_size=1,\n",
    "        class_mode='categorical',\n",
    "        shuffle=False, #don't shuffle or label results will be all wrong\n",
    "        seed=1953)\n",
    "\n",
    "\n",
    "test_generator = test_datagen.flow_from_directory(\n",
    "    'data/test',\n",
    "    target_size=(32, 32),\n",
    "    color_mode='rgb',\n",
    "    batch_size=1,\n",
    "    class_mode='categorical',\n",
    "    shuffle=False, #don't shuffle or label results will be all wrong\n",
    "    seed=1953)\n"
   ]
  },
  {
   "cell_type": "code",
   "execution_count": 95,
   "metadata": {},
   "outputs": [],
   "source": [
    "# neural network model\n",
    "# you may want to vary these parameters, etc\n",
    "\n",
    "num_classes = 8 # fixed by the number of classes of signs that we gave you. Dont change\n",
    "\n",
    "model = Sequential()\n",
    "model.add(Conv2D(32, (3, 3), padding='same',input_shape = (32, 32, 3)))\n",
    "model.add(Activation('relu'))\n",
    "model.add(MaxPooling2D(pool_size=(2, 2)))\n",
    "model.add(Conv2D(64, (3, 3), padding='same'))\n",
    "model.add(Activation('relu'))\n",
    "model.add(MaxPooling2D(pool_size=(2, 2)))\n",
    "model.add(Flatten())\n",
    "model.add(Dense(512))\n",
    "model.add(Activation('relu'))\n",
    "model.add(Dropout(0.25))\n",
    "model.add(Dense(num_classes))\n",
    "model.add(Activation('softmax'))\n"
   ]
  },
  {
   "cell_type": "code",
   "execution_count": 96,
   "metadata": {},
   "outputs": [
    {
     "name": "stdout",
     "output_type": "stream",
     "text": [
      "_________________________________________________________________\n",
      "Layer (type)                 Output Shape              Param #   \n",
      "=================================================================\n",
      "conv2d_39 (Conv2D)           (None, 32, 32, 32)        896       \n",
      "_________________________________________________________________\n",
      "activation_65 (Activation)   (None, 32, 32, 32)        0         \n",
      "_________________________________________________________________\n",
      "max_pooling2d_27 (MaxPooling (None, 16, 16, 32)        0         \n",
      "_________________________________________________________________\n",
      "conv2d_40 (Conv2D)           (None, 16, 16, 64)        18496     \n",
      "_________________________________________________________________\n",
      "activation_66 (Activation)   (None, 16, 16, 64)        0         \n",
      "_________________________________________________________________\n",
      "max_pooling2d_28 (MaxPooling (None, 8, 8, 64)          0         \n",
      "_________________________________________________________________\n",
      "flatten_14 (Flatten)         (None, 4096)              0         \n",
      "_________________________________________________________________\n",
      "dense_27 (Dense)             (None, 512)               2097664   \n",
      "_________________________________________________________________\n",
      "activation_67 (Activation)   (None, 512)               0         \n",
      "_________________________________________________________________\n",
      "dropout_16 (Dropout)         (None, 512)               0         \n",
      "_________________________________________________________________\n",
      "dense_28 (Dense)             (None, 8)                 4104      \n",
      "_________________________________________________________________\n",
      "activation_68 (Activation)   (None, 8)                 0         \n",
      "=================================================================\n",
      "Total params: 2,121,160\n",
      "Trainable params: 2,121,160\n",
      "Non-trainable params: 0\n",
      "_________________________________________________________________\n"
     ]
    }
   ],
   "source": [
    "model.compile(loss = 'categorical_crossentropy',\n",
    "              optimizer = 'Adam', # may want to try others\n",
    "              metrics = ['accuracy'])\n",
    "model.summary()"
   ]
  },
  {
   "cell_type": "code",
   "execution_count": 97,
   "metadata": {},
   "outputs": [
    {
     "name": "stdout",
     "output_type": "stream",
     "text": [
      "Epoch 1/4\n",
      "2744/2744 [==============================] - 13s 5ms/step - loss: 0.4459 - acc: 0.8633 - val_loss: 0.1615 - val_acc: 0.9559\n",
      "Epoch 2/4\n",
      "2744/2744 [==============================] - 12s 4ms/step - loss: 0.1121 - acc: 0.9647 - val_loss: 0.2127 - val_acc: 0.9333\n",
      "Epoch 3/4\n",
      "2744/2744 [==============================] - 12s 4ms/step - loss: 0.0861 - acc: 0.9745 - val_loss: 0.3195 - val_acc: 0.9053\n",
      "Epoch 4/4\n",
      "2744/2744 [==============================] - 12s 5ms/step - loss: 0.0892 - acc: 0.9752 - val_loss: 0.1710 - val_acc: 0.9559\n"
     ]
    },
    {
     "data": {
      "text/plain": [
       "<keras.callbacks.History at 0x7f2c58435588>"
      ]
     },
     "execution_count": 97,
     "metadata": {},
     "output_type": "execute_result"
    }
   ],
   "source": [
    "STEP_SIZE_TRAIN=train_generator.n//train_generator.batch_size\n",
    "STEP_SIZE_VALID=valid_generator.n//valid_generator.batch_size\n",
    "STEP_SIZE_TEST=test_generator.n//test_generator.batch_size\n",
    "model.fit_generator(generator=train_generator,\n",
    "                    steps_per_epoch=STEP_SIZE_TRAIN,\n",
    "                    validation_data=valid_generator,\n",
    "                    validation_steps=STEP_SIZE_VALID,\n",
    "                    epochs=4 # may need to increase if not seeing low enough losses\n",
    ")\n"
   ]
  },
  {
   "cell_type": "code",
   "execution_count": 98,
   "metadata": {},
   "outputs": [
    {
     "name": "stdout",
     "output_type": "stream",
     "text": [
      "Confusion Matrix\n",
      "[[ 40   7   1   0   0   0   1   3]\n",
      " [  0  38  12   0   0   0   0   0]\n",
      " [  0   0 186  11   0   0   3   0]\n",
      " [  0   1   5 131   9   1   7   0]\n",
      " [  0   0   0   0   6  11   0   0]\n",
      " [  0   0   0   0   0  36  11   0]\n",
      " [  0   0   3   5   0   0 374   5]\n",
      " [ 11   0   0   1   0   0   3   7]]\n",
      "Classification Report\n",
      "              precision    recall  f1-score   support\n",
      "\n",
      "   keepRight       0.78      0.77      0.78        52\n",
      "       merge       0.83      0.76      0.79        50\n",
      "  pedestrian       0.90      0.93      0.91       200\n",
      " signalAhead       0.89      0.85      0.87       154\n",
      "speedLimit25       0.40      0.35      0.38        17\n",
      "speedLimit35       0.75      0.77      0.76        47\n",
      "        stop       0.94      0.97      0.95       387\n",
      "       yield       0.47      0.32      0.38        22\n",
      "\n",
      "   micro avg       0.88      0.88      0.88       929\n",
      "   macro avg       0.74      0.71      0.73       929\n",
      "weighted avg       0.88      0.88      0.88       929\n",
      "\n"
     ]
    }
   ],
   "source": [
    "Y_pred = model.predict_generator(valid_generator, steps=STEP_SIZE_VALID)\n",
    "y_pred = np.argmax(Y_pred, axis=1)\n",
    "print('Confusion Matrix')\n",
    "print(confusion_matrix(valid_generator.classes, y_pred))\n",
    "print('Classification Report')\n",
    "print(classification_report(valid_generator.classes, y_pred, target_names=valid_generator.class_indices))"
   ]
  },
  {
   "cell_type": "code",
   "execution_count": 99,
   "metadata": {},
   "outputs": [],
   "source": [
    "#USE CELLS BELOW TO COMPLETE THE EXERCISE WITH THE TEST SET"
   ]
  },
  {
   "cell_type": "code",
   "execution_count": 100,
   "metadata": {},
   "outputs": [
    {
     "name": "stdout",
     "output_type": "stream",
     "text": [
      "Confusion Matrix\n",
      "[[ 58   0   0   0   0   0   0   0]\n",
      " [  0  48   4   1   0   0   0   2]\n",
      " [  0   0 208   0   0   0   0   0]\n",
      " [  0   0   3 134   0   0   8   1]\n",
      " [  0   0   0   0  21   3   1   0]\n",
      " [  0   0   0   0   0  41   0   0]\n",
      " [  0   0   0   2   0   0 329   0]\n",
      " [  0   0   0   2   0   0   9   9]]\n",
      "Classification Report\n",
      "              precision    recall  f1-score   support\n",
      "\n",
      "   keepRight       1.00      1.00      1.00        58\n",
      "       merge       1.00      0.87      0.93        55\n",
      "  pedestrian       0.97      1.00      0.98       208\n",
      " signalAhead       0.96      0.92      0.94       146\n",
      "speedLimit25       1.00      0.84      0.91        25\n",
      "speedLimit35       0.93      1.00      0.96        41\n",
      "        stop       0.95      0.99      0.97       331\n",
      "       yield       0.75      0.45      0.56        20\n",
      "\n",
      "   micro avg       0.96      0.96      0.96       884\n",
      "   macro avg       0.95      0.88      0.91       884\n",
      "weighted avg       0.96      0.96      0.96       884\n",
      "\n"
     ]
    }
   ],
   "source": [
    "STEP_SIZE_TEST=test_generator.n//test_generator.batch_size\n",
    "Y_pred = model.predict_generator(test_generator, steps=STEP_SIZE_TEST)\n",
    "y_pred = np.argmax(Y_pred, axis=1)\n",
    "print('Confusion Matrix')\n",
    "print(confusion_matrix(test_generator.classes, y_pred))\n",
    "print('Classification Report')\n",
    "print(classification_report(test_generator.classes, y_pred, target_names=train_generator.class_indices))"
   ]
  },
  {
   "cell_type": "code",
   "execution_count": null,
   "metadata": {},
   "outputs": [],
   "source": [
    "#This cell dumps out a file of which files were incorrectly predicted\n",
    "#so you can see if you need more features, more training samples, etc\n",
    "import pandas as pd\n",
    "predicted_class_indices=np.argmax(Y_pred,axis=1)\n",
    "labels = (train_generator.class_indices)\n",
    "labels = dict((v,k) for k,v in labels.items())\n",
    "predictions = [labels[k] for k in predicted_class_indices]\n",
    "filenames=test_generator.filenames\n",
    "results=pd.DataFrame({\"Filename\":filenames,\n",
    "                      \"Predictions\":predictions})\n",
    "results.to_csv(\"results.csv\",index=False)"
   ]
  }
 ],
 "metadata": {
  "kernelspec": {
   "display_name": "Python 3",
   "language": "python",
   "name": "python3"
  },
  "language_info": {
   "codemirror_mode": {
    "name": "ipython",
    "version": 3
   },
   "file_extension": ".py",
   "mimetype": "text/x-python",
   "name": "python",
   "nbconvert_exporter": "python",
   "pygments_lexer": "ipython3",
   "version": "3.5.2"
  }
 },
 "nbformat": 4,
 "nbformat_minor": 2
}
