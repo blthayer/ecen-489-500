{
 "cells": [
  {
   "cell_type": "markdown",
   "metadata": {},
   "source": [
    "# ECEN 489-500: Python Programming Exercise 1\n",
    "Author: Brandon Thayer\n"
   ]
  },
  {
   "cell_type": "markdown",
   "metadata": {},
   "source": [
    "## Imports"
   ]
  },
  {
   "cell_type": "code",
   "execution_count": 4,
   "metadata": {},
   "outputs": [
    {
     "name": "stdout",
     "output_type": "stream",
     "text": [
      "Imports complete.\n"
     ]
    }
   ],
   "source": [
    "import numpy as np\n",
    "\n",
    "print('Imports complete.')"
   ]
  },
  {
   "cell_type": "markdown",
   "metadata": {},
   "source": [
    "## Initialization"
   ]
  },
  {
   "cell_type": "code",
   "execution_count": 8,
   "metadata": {},
   "outputs": [
    {
     "name": "stdout",
     "output_type": "stream",
     "text": [
      "Initialization complete.\n",
      "World: \n",
      "[[0 1 1 1 0 0 0]\n",
      " [0 0 1 1 0 0 0]\n",
      " [0 0 0 0 0 0 0]\n",
      " [0 1 0 0 0 0 0]\n",
      " [0 1 0 1 0 1 1]\n",
      " [0 0 0 1 0 0 0]\n",
      " [0 0 1 1 0 0 0]]\n",
      "Expansion array: \n",
      "[[-1 -1 -1 -1 -1 -1 -1]\n",
      " [-1 -1 -1 -1 -1 -1 -1]\n",
      " [-1 -1 -1 -1 -1 -1 -1]\n",
      " [-1 -1 -1 -1 -1 -1 -1]\n",
      " [-1 -1 -1 -1 -1 -1 -1]\n",
      " [-1 -1 -1 -1 -1 -1 -1]\n",
      " [-1 -1 -1 -1 -1 -1 -1]]\n",
      "Path array: \n",
      "[[0 1 1 1 0 0 0]\n",
      " [0 0 1 1 0 0 0]\n",
      " [0 0 0 0 0 0 0]\n",
      " [0 1 0 0 0 0 0]\n",
      " [0 1 0 1 0 1 1]\n",
      " [0 0 0 1 0 0 0]\n",
      " [0 0 1 1 0 0 0]]\n"
     ]
    }
   ],
   "source": [
    "# Example world from the exercise prompt.\n",
    "world = [\n",
    "    [0, 1, 1, 1, 0, 0, 0],\n",
    "    [0, 0, 1, 1, 0, 0, 0],\n",
    "    [0, 0, 0, 0, 0, 0, 0],\n",
    "    [0, 1, 0, 0, 0, 0, 0],\n",
    "    [0, 1, 0, 1, 0, 1, 1],\n",
    "    [0, 0, 0, 1, 0, 0, 0],\n",
    "    [0, 0, 1, 1, 0, 0, 0]]\n",
    "\n",
    "# Put the world in a numpy array.\n",
    "w = np.array(world)\n",
    "\n",
    "# Initialize expansion array.\n",
    "# TODO: This will certainly change.\n",
    "e = np.zeros_like(w) - 1\n",
    "\n",
    "# Initialize path array.\n",
    "p = w.astype(np.chararray)\n",
    "\n",
    "print('Initialization complete.')\n",
    "print('World: ')\n",
    "print(w)\n",
    "print('Expansion array: ')\n",
    "print(e)\n",
    "print('Path array: ')\n",
    "print(p)"
   ]
  },
  {
   "cell_type": "markdown",
   "metadata": {},
   "source": [
    "## Functions"
   ]
  },
  {
   "cell_type": "code",
   "execution_count": 28,
   "metadata": {},
   "outputs": [],
   "source": [
    "def _check_move(world, position, previous_position):\n",
    "    \"\"\"Helper function to check if a move is valid.\n",
    "    \n",
    "    For information on inputs, check get_available_moves function.\n",
    "    \"\"\"\n",
    "    # No going backward.\n",
    "    if position == previous_position:\n",
    "        return False\n",
    "    \n",
    "    # Our world doesn't wrap, so no negative indices allowed.\n",
    "    if (position[0] < 0) or (position[1] < 0):\n",
    "        return False\n",
    "    \n",
    "    # Check the value of the position in the world\n",
    "    try:\n",
    "        position_value = world[position[0]][position[1]]\n",
    "    except IndexError:\n",
    "        # The position is out of bounds.\n",
    "        return False\n",
    "    \n",
    "    # The position is valid if the value is 0, but not if it's a 1.\n",
    "    if position_value == 1:\n",
    "        return False\n",
    "    elif position_value == 0:\n",
    "        return True\n",
    "    else:\n",
    "        raise ValueError('position_value evaluated to {}'.format(position_value))\n",
    "    \n",
    "\n",
    "def get_available_moves(world, position, previous_position):\n",
    "    \"\"\"Determine the set of all viable next moves.\n",
    "    \n",
    "    :param world: numpy array containing the world. 0 is a valid location to occupy, 1 is not.\n",
    "    :param position: two element tuple indicating current position in the world.\n",
    "    :param previous_position: two element tuple indicating previous position in the world.\n",
    "    \"\"\"\n",
    "    # Initialize array to hold possible moves. None will indicate the move is not valid.\n",
    "    # ORDER: North, East, South, West\n",
    "    moves = [None,] * 4\n",
    "    \n",
    "    # North: Subtract 1 from the row index.\n",
    "    north = (position[0] - 1, position[1])\n",
    "    if _check_move(world, north, previous_position):\n",
    "        moves[0] = north\n",
    "        \n",
    "    # East: Add 1 to the column index.\n",
    "    east = (position[0], position[1] + 1)\n",
    "    if _check_move(world, east, previous_position):\n",
    "        moves[1] = east\n",
    "        \n",
    "    # South: Add 1 to the row index.\n",
    "    south = (position[0] + 1, position[1])\n",
    "    if _check_move(world, south, previous_position):\n",
    "        moves[2] = south\n",
    "        \n",
    "    # West: Subtract 1 from the column index.\n",
    "    west = (position[0], position[1] - 1)\n",
    "    if _check_move(world, west, previous_position):\n",
    "        moves[3] = west\n",
    "        \n",
    "    return moves"
   ]
  },
  {
   "cell_type": "code",
   "execution_count": 29,
   "metadata": {},
   "outputs": [
    {
     "name": "stdout",
     "output_type": "stream",
     "text": [
      "[None, None, (1, 0), None]\n"
     ]
    }
   ],
   "source": [
    "moves = get_available_moves(world=w, position=(0, 0), previous_position=None)\n",
    "print(moves)"
   ]
  },
  {
   "cell_type": "code",
   "execution_count": 18,
   "metadata": {},
   "outputs": [
    {
     "data": {
      "text/plain": [
       "False"
      ]
     },
     "execution_count": 18,
     "metadata": {},
     "output_type": "execute_result"
    }
   ],
   "source": [
    "(1, 1) == None"
   ]
  },
  {
   "cell_type": "code",
   "execution_count": null,
   "metadata": {},
   "outputs": [],
   "source": []
  }
 ],
 "metadata": {
  "kernelspec": {
   "display_name": "Python 3",
   "language": "python",
   "name": "python3"
  },
  "language_info": {
   "codemirror_mode": {
    "name": "ipython",
    "version": 3
   },
   "file_extension": ".py",
   "mimetype": "text/x-python",
   "name": "python",
   "nbconvert_exporter": "python",
   "pygments_lexer": "ipython3",
   "version": "3.7.1"
  }
 },
 "nbformat": 4,
 "nbformat_minor": 2
}
