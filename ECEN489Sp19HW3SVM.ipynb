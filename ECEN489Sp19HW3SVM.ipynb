{
 "cells": [
  {
   "cell_type": "code",
   "execution_count": null,
   "metadata": {},
   "outputs": [],
   "source": [
    "from sklearn.pipeline import Pipeline\n",
    "from sklearn.preprocessing import StandardScaler\n",
    "from sklearn.svm import LinearSVC\n",
    "from sklearn.svm import SVC\n",
    "from matplotlib import pyplot\n",
    "from pandas import DataFrame"
   ]
  },
  {
   "cell_type": "code",
   "execution_count": null,
   "metadata": {},
   "outputs": [],
   "source": [
    "import numpy as np\n",
    "import pandas as pd"
   ]
  },
  {
   "cell_type": "code",
   "execution_count": null,
   "metadata": {},
   "outputs": [],
   "source": [
    "from sklearn.model_selection import train_test_split"
   ]
  },
  {
   "cell_type": "code",
   "execution_count": null,
   "metadata": {},
   "outputs": [],
   "source": [
    "# importing dataset\n",
    "# create matrix of independent variables(features)\n",
    "data_X = pd.read_csv('svm_train.csv')\n",
    "X_train = data_X.iloc[:,0:2].values\n",
    "#create dependent variable vector\n",
    "data_y = pd.read_csv('svm_train.csv')\n",
    "y_train = data_y.iloc[:, -1].values\n",
    "# create matrix of independent variables(features)\n",
    "data_Xtst = pd.read_csv('svm_test.csv')\n",
    "X_test = data_Xtst.iloc[:,0:2].values\n",
    "#create dependent variable vector\n",
    "data_ytst = pd.read_csv('svm_test.csv')\n",
    "y_test = data_ytst.iloc[:, -1].values"
   ]
  },
  {
   "cell_type": "code",
   "execution_count": null,
   "metadata": {},
   "outputs": [],
   "source": [
    "data_X.info()"
   ]
  },
  {
   "cell_type": "code",
   "execution_count": null,
   "metadata": {},
   "outputs": [],
   "source": [
    "data_X.head()"
   ]
  },
  {
   "cell_type": "code",
   "execution_count": null,
   "metadata": {},
   "outputs": [],
   "source": [
    "data_X.describe()"
   ]
  },
  {
   "cell_type": "code",
   "execution_count": null,
   "metadata": {},
   "outputs": [],
   "source": [
    "%matplotlib inline\n",
    "import matplotlib as plt\n",
    "data_X.hist(bins=50, figsize=(20,15))"
   ]
  },
  {
   "cell_type": "code",
   "execution_count": null,
   "metadata": {},
   "outputs": [],
   "source": [
    "from matplotlib import pyplot\n"
   ]
  },
  {
   "cell_type": "code",
   "execution_count": null,
   "metadata": {},
   "outputs": [],
   "source": [
    "# scatter plot, dots colored by class value\n",
    "df = DataFrame(dict(x1=X_train[:,0], x2=X_train[:,1], label=y_train))\n",
    "colors = {0:'red', 1:'blue'}\n",
    "fig, ax = pyplot.subplots()\n",
    "grouped = df.groupby('label')\n",
    "for key, group in grouped:\n",
    "    group.plot(ax=ax, kind='scatter', x='x1', y='x2', label=key, color=colors[key])\n",
    "pyplot.show()"
   ]
  },
  {
   "cell_type": "code",
   "execution_count": null,
   "metadata": {},
   "outputs": [],
   "source": [
    "X_train, X_val, y_train, y_val = train_test_split(X_train, y_train, test_size=0.25, random_state=1953)"
   ]
  },
  {
   "cell_type": "code",
   "execution_count": null,
   "metadata": {},
   "outputs": [],
   "source": [
    "svm_class = Pipeline([\n",
    "    (\"scaler\", StandardScaler()),\n",
    "    (\"linear_svc\", LinearSVC(C=10, loss=\"hinge\"))\n",
    "])"
   ]
  },
  {
   "cell_type": "code",
   "execution_count": null,
   "metadata": {},
   "outputs": [],
   "source": [
    "svm_class.fit(X_train, y_train)"
   ]
  },
  {
   "cell_type": "code",
   "execution_count": null,
   "metadata": {},
   "outputs": [],
   "source": [
    "#predicting Test set results\n",
    "y_pred = svm_class.predict(X_val)\n",
    "# making confusion matrix\n",
    "from sklearn.metrics import confusion_matrix\n",
    "cm = confusion_matrix(y_val, y_pred)"
   ]
  },
  {
   "cell_type": "code",
   "execution_count": null,
   "metadata": {},
   "outputs": [],
   "source": [
    "cm"
   ]
  },
  {
   "cell_type": "code",
   "execution_count": null,
   "metadata": {},
   "outputs": [],
   "source": [
    "# Set min and max values and give it some padding\n",
    "x_min, x_max = X_val[:, 0].min() - .5, X_val[:, 0].max() + .5\n",
    "y_min, y_max = X_val[:, 1].min() - .5, X_val[:, 1].max() + .5\n",
    "h = 0.01\n",
    "# Generate a grid of points with distance h between them\n",
    "xx, yy = np.meshgrid(np.arange(x_min, x_max, h), np.arange(y_min, y_max, h))\n",
    "# Predict the function value for the whole gid\n",
    "Z = svm_class.predict(np.c_[xx.ravel(), yy.ravel()])\n",
    "Z = Z.reshape(xx.shape)\n",
    "# Plot the contour and training examples\n",
    "pyplot.contourf(xx, yy, Z, cmap=pyplot.cm.Spectral)\n",
    "pyplot.scatter(X_val[:, 0], X_val[:, 1], c=y_val, cmap=pyplot.cm.Spectral)\n",
    "pyplot.savefig('svm_linear.png')"
   ]
  },
  {
   "cell_type": "code",
   "execution_count": null,
   "metadata": {},
   "outputs": [],
   "source": [
    "svm_class = Pipeline([\n",
    "    (\"scaler\", StandardScaler()),\n",
    "    (\"poly_svc\", SVC(kernel=\"poly\", degree=3, coef0=1, C=5))\n",
    "])\n",
    "svm_class.fit(X_train, y_train)\n",
    "#predicting Test set results\n",
    "y_pred = svm_class.predict(X_val)\n",
    "# making confusion matrix\n",
    "from sklearn.metrics import confusion_matrix\n",
    "cm = confusion_matrix(y_val, y_pred)"
   ]
  },
  {
   "cell_type": "code",
   "execution_count": null,
   "metadata": {},
   "outputs": [],
   "source": [
    "cm"
   ]
  },
  {
   "cell_type": "code",
   "execution_count": null,
   "metadata": {},
   "outputs": [],
   "source": [
    "# Set min and max values and give it some padding\n",
    "x_min, x_max = X_val[:, 0].min() - .5, X_val[:, 0].max() + .5\n",
    "y_min, y_max = X_val[:, 1].min() - .5, X_val[:, 1].max() + .5\n",
    "h = 0.01\n",
    "# Generate a grid of points with distance h between them\n",
    "xx, yy = np.meshgrid(np.arange(x_min, x_max, h), np.arange(y_min, y_max, h))\n",
    "# Predict the function value for the whole gid\n",
    "Z = svm_class.predict(np.c_[xx.ravel(), yy.ravel()])\n",
    "Z = Z.reshape(xx.shape)\n",
    "# Plot the contour and training examples\n",
    "pyplot.contourf(xx, yy, Z, cmap=pyplot.cm.Spectral)\n",
    "pyplot.scatter(X_val[:, 0], X_val[:, 1], c=y_val, cmap=pyplot.cm.Spectral)\n",
    "pyplot.savefig('svm_poly3.png')"
   ]
  },
  {
   "cell_type": "code",
   "execution_count": null,
   "metadata": {},
   "outputs": [],
   "source": [
    "svm_class = Pipeline([\n",
    "    (\"scaler\", StandardScaler()),\n",
    "    (\"poly_svc\", SVC(kernel=\"poly\", degree=10, coef0=1, C=5))\n",
    "])\n",
    "svm_class.fit(X_train, y_train)\n",
    "#predicting Test set results\n",
    "y_pred = svm_class.predict(X_val)\n",
    "# making confusion matrix\n",
    "from sklearn.metrics import confusion_matrix\n",
    "cm = confusion_matrix(y_val, y_pred)"
   ]
  },
  {
   "cell_type": "code",
   "execution_count": null,
   "metadata": {},
   "outputs": [],
   "source": [
    "cm"
   ]
  },
  {
   "cell_type": "code",
   "execution_count": null,
   "metadata": {},
   "outputs": [],
   "source": [
    "# Set min and max values and give it some padding\n",
    "x_min, x_max = X_val[:, 0].min() - .5, X_val[:, 0].max() + .5\n",
    "y_min, y_max = X_val[:, 1].min() - .5, X_val[:, 1].max() + .5\n",
    "h = 0.01\n",
    "# Generate a grid of points with distance h between them\n",
    "xx, yy = np.meshgrid(np.arange(x_min, x_max, h), np.arange(y_min, y_max, h))\n",
    "# Predict the function value for the whole gid\n",
    "Z = svm_class.predict(np.c_[xx.ravel(), yy.ravel()])\n",
    "Z = Z.reshape(xx.shape)\n",
    "# Plot the contour and training examples\n",
    "pyplot.contourf(xx, yy, Z, cmap=pyplot.cm.Spectral)\n",
    "pyplot.scatter(X_val[:, 0], X_val[:, 1], c=y_val, cmap=pyplot.cm.Spectral)\n",
    "pyplot.savefig('svm_poly10.png')"
   ]
  },
  {
   "cell_type": "code",
   "execution_count": null,
   "metadata": {},
   "outputs": [],
   "source": [
    "from sklearn.model_selection import GridSearchCV\n",
    "hp_grid=[\n",
    "    {'C' : [0.001, 1, 1000], 'gamma' : [0.1, 0.7, 5]}\n",
    "]\n",
    "svm_classifier = SVC(kernel=\"rbf\")\n",
    "grid_search = GridSearchCV(svm_classifier, hp_grid, cv=5, scoring='accuracy')\n",
    "grid_search.fit(X_train, y_train)"
   ]
  },
  {
   "cell_type": "code",
   "execution_count": null,
   "metadata": {},
   "outputs": [],
   "source": [
    "grid_search.best_params_"
   ]
  },
  {
   "cell_type": "code",
   "execution_count": null,
   "metadata": {},
   "outputs": [],
   "source": [
    "grid_search.best_estimator_"
   ]
  },
  {
   "cell_type": "code",
   "execution_count": null,
   "metadata": {},
   "outputs": [],
   "source": [
    "svm_class = Pipeline([\n",
    "    (\"scaler\", StandardScaler()),\n",
    "    (\"kern_svc\", grid_search.best_estimator_)\n",
    "])\n",
    "svm_class.fit(X_train, y_train)\n",
    "#predicting Test set results\n",
    "y_pred = svm_class.predict(X_val)\n",
    "# making confusion matrix\n",
    "from sklearn.metrics import confusion_matrix\n",
    "cm = confusion_matrix(y_val, y_pred)"
   ]
  },
  {
   "cell_type": "code",
   "execution_count": null,
   "metadata": {},
   "outputs": [],
   "source": [
    "cm"
   ]
  },
  {
   "cell_type": "code",
   "execution_count": null,
   "metadata": {},
   "outputs": [],
   "source": [
    "## Set min and max values and give it some padding\n",
    "x_min, x_max = X_val[:, 0].min() - .5, X_val[:, 0].max() + .5\n",
    "y_min, y_max = X_val[:, 1].min() - .5, X_val[:, 1].max() + .5\n",
    "h = 0.01\n",
    "# Generate a grid of points with distance h between them\n",
    "xx, yy = np.meshgrid(np.arange(x_min, x_max, h), np.arange(y_min, y_max, h))\n",
    "# Predict the function value for the whole gid\n",
    "Z = svm_class.predict(np.c_[xx.ravel(), yy.ravel()])\n",
    "Z = Z.reshape(xx.shape)\n",
    "# Plot the contour and training examples\n",
    "pyplot.contourf(xx, yy, Z, cmap=pyplot.cm.Spectral)\n",
    "pyplot.scatter(X_val[:, 0], X_val[:, 1], c=y_val, cmap=pyplot.cm.Spectral)\n",
    "pyplot.savefig('svm_kernel.png')"
   ]
  },
  {
   "cell_type": "code",
   "execution_count": null,
   "metadata": {},
   "outputs": [],
   "source": [
    "#predicting Test set results\n",
    "y_pred = svm_class.predict(X_test)\n",
    "# making confusion matrix\n",
    "from sklearn.metrics import confusion_matrix\n",
    "cm = confusion_matrix(y_test, y_pred)"
   ]
  },
  {
   "cell_type": "code",
   "execution_count": null,
   "metadata": {},
   "outputs": [],
   "source": [
    "cm"
   ]
  },
  {
   "cell_type": "code",
   "execution_count": null,
   "metadata": {},
   "outputs": [],
   "source": [
    "# Set min and max values and give it some padding\n",
    "x_min, x_max = X_test[:, 0].min() - .5, X_test[:, 0].max() + .5\n",
    "y_min, y_max = X_test[:, 1].min() - .5, X_test[:, 1].max() + .5\n",
    "h = 0.01\n",
    "# Generate a grid of points with distance h between them\n",
    "xx, yy = np.meshgrid(np.arange(x_min, x_max, h), np.arange(y_min, y_max, h))\n",
    "# Predict the function value for the whole gid\n",
    "Z = svm_class.predict(np.c_[xx.ravel(), yy.ravel()])\n",
    "Z = Z.reshape(xx.shape)\n",
    "# Plot the contour and training examples\n",
    "pyplot.contourf(xx, yy, Z, cmap=pyplot.cm.Spectral)\n",
    "pyplot.scatter(X_test[:, 0], X_test[:, 1], c=y_test, cmap=pyplot.cm.Spectral)\n",
    "pyplot.savefig('svm_kernel_test.png')"
   ]
  },
  {
   "cell_type": "code",
   "execution_count": null,
   "metadata": {},
   "outputs": [],
   "source": []
  },
  {
   "cell_type": "code",
   "execution_count": null,
   "metadata": {},
   "outputs": [],
   "source": []
  }
 ],
 "metadata": {
  "kernelspec": {
   "display_name": "Python 3",
   "language": "python",
   "name": "python3"
  },
  "language_info": {
   "codemirror_mode": {
    "name": "ipython",
    "version": 3
   },
   "file_extension": ".py",
   "mimetype": "text/x-python",
   "name": "python",
   "nbconvert_exporter": "python",
   "pygments_lexer": "ipython3",
   "version": "3.6.7"
  }
 },
 "nbformat": 4,
 "nbformat_minor": 2
}
